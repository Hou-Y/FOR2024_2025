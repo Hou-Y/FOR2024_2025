{
  "cells": [
    {
      "cell_type": "markdown",
      "metadata": {
        "id": "16f4ZSbfZ1Wf"
      },
      "source": [
        "## Diet problem\n",
        "\n",
        "A canteen has to plan the composition of the meals that it provides. A meal can be composed of the types of food indicated in the following table. Costs, in Euro per hg, and availabilities, in hg, are also indicated.\n",
        "\n",
        "Food|Cost|Availability\n",
        "----|----|------------\n",
        "Bread|0.1|4\n",
        "Milk|0.5|3\n",
        "Eggs|0.12|1\n",
        "Meat|0.9|2\n",
        "Cake|1.3|2\n",
        "\n",
        "A meal must contain at least the following amount of each nutrient\n",
        "\n",
        "Nutrient|Minimal quantity\n",
        "--------|----------------\n",
        "Calories|600 cal\n",
        "Proteins|50 g\n",
        "Calcium|0.7 g\n",
        "\n",
        "Each hg of each type of food contains to following amount of nutrients\n",
        "\n",
        "Food|Calories|Proteins|Calcium\n",
        "----|--------|--------|-------\n",
        "Bread|30 cal|5 g|0.02 g\n",
        "Milk|50 cal|15 g|0.15 g\n",
        "Eggs|150 cal|30 g|0.05 g\n",
        "Meat|180 cal|90 g|0.08 g\n",
        "Cake|400 cal|70 g|0.01 g\n",
        "\n",
        "Give a linear programming formulation for the problem of finding a diet (a meal) of minimum total cost which satisfies the minimum nutrient requirements."
      ]
    },
    {
      "cell_type": "code",
      "execution_count": 1,
      "metadata": {
        "colab": {
          "base_uri": "https://localhost:8080/"
        },
        "id": "m-zEbZ51Z1Wg",
        "outputId": "6fd7b413-e8bd-4d64-a592-00d496663529"
      },
      "outputs": [
        {
          "output_type": "stream",
          "name": "stdout",
          "text": [
            "Requirement already satisfied: mip in /usr/local/lib/python3.10/dist-packages (1.15.0)\n",
            "Requirement already satisfied: cffi==1.15.* in /usr/local/lib/python3.10/dist-packages (from mip) (1.15.1)\n",
            "Requirement already satisfied: pycparser in /usr/local/lib/python3.10/dist-packages (from cffi==1.15.*->mip) (2.22)\n"
          ]
        }
      ],
      "source": [
        "# When using Colab, make sure you run this instruction beforehand\n",
        "!pip install mip"
      ]
    },
    {
      "cell_type": "code",
      "execution_count": 2,
      "metadata": {
        "id": "rFVdF1QEZ1Wh"
      },
      "outputs": [],
      "source": [
        "# We need to import the package mip\n",
        "import mip"
      ]
    },
    {
      "cell_type": "code",
      "source": [
        "from google.colab import drive\n",
        "drive.mount('/content/drive')"
      ],
      "metadata": {
        "id": "SUYK-UzofFYo"
      },
      "execution_count": null,
      "outputs": []
    },
    {
      "cell_type": "code",
      "source": [],
      "metadata": {
        "id": "SpCeLSdUfJZG"
      },
      "execution_count": null,
      "outputs": []
    },
    {
      "cell_type": "code",
      "source": [],
      "metadata": {
        "id": "TaYBzZtyfJ5J"
      },
      "execution_count": null,
      "outputs": []
    },
    {
      "cell_type": "code",
      "execution_count": null,
      "metadata": {
        "id": "emiHieGMkTVg"
      },
      "outputs": [],
      "source": [
        "#SETS\n",
        "# Food, set of foods\n",
        "I = ['Bread', 'Milk', 'Eggs', 'Meat', 'Cake']\n",
        "\n",
        "# Nutrients, set of nutrients\n",
        "J = {'Calories','Proteins', 'Calcium'}\n",
        "\n",
        "#Parameters:\n",
        "\n",
        "# Cost in Euro per hg of food ; c is included in/belongs to set I\n",
        "c = {'Bread':0.1, 'Milk': 0.5, 'Eggs':0.12, 'Meat':0.9, 'Cake':1.3 }\n",
        "#c =[0.1, 0.5, 0.12, 0.9, 1.3]\n",
        "\n",
        "# Availability per hg of food; q is included in set I\n",
        "q = {'Bread':4, 'Milk': 3, 'Eggs':1, 'Meat':2, 'Cake':2 }\n",
        "\n",
        "# minum nutrients ; minimum requirements bi, i belongs to set J\n",
        "b = {'Calories':600, 'Proteins':50, 'Calcium':0.7 }\n",
        "\n",
        "# Nutrients per hf of food; a belongs to J\n",
        "a = {('Bread','Calories'):30,('Milk','Calories'):50,('Eggs','Calories'):150,('Meat','Calories'):180,('Cake','Calories'):400,\n",
        "('Bread','Proteins'):5,('Milk','Proteins'):15,('Eggs','Proteins'):30,('Meat','Proteins'):90,('Cake','Proteins'):70,\n",
        "('Bread','Calcium'):0.02,('Milk','Calcium'):0.15,('Eggs','Calcium'):0.05,('Meat','Calcium'):0.08,('Cake','Calcium'):0.01}\n",
        "\n",
        "#DECISION VARIABLES:\n",
        "#xi = amount of food, i belongs to I\n",
        "\n",
        "#COSTRAINTS:\n",
        "\n",
        "#minimum quantity c[i]*x[i]\n",
        "#sum (a[i][j]) for every j belonging to J >= b[j] for each j belonging to J  <--- minimum requirement costraint\n",
        "\n",
        "#availability of food\n",
        "#  x[i]<=q[i] for each i belonging to I\n",
        "#with x[i] >= 0 (continuous and bigger than zero)\n",
        "\n",
        "#We'll use dictionaries in which the keys are the names"
      ]
    },
    {
      "cell_type": "markdown",
      "metadata": {
        "id": "tb2m51sBZ1Wi"
      },
      "source": [
        "Now we create an empty model and add the variables"
      ]
    },
    {
      "cell_type": "code",
      "execution_count": null,
      "metadata": {
        "id": "pSvGnxiao6Zl"
      },
      "outputs": [],
      "source": [
        "# Define a model\n",
        "model = mip.Model()\n",
        "\n",
        "# Define variables\n",
        "x = { i :model.add_var(name = i) for i in I} #x is a dictionary\n",
        "#add_var(name='', lb=0.0, ub=inf, obj=0.0, var_type='C', column=None)\n",
        "#Creates a new variable in the model, returning its reference\n",
        "\n",
        "#Parameters\n",
        "#name (str) – variable name (optional)\n",
        "#lb (numbers.Real) – variable lower bound, default 0.0\n",
        "#ub (numbers.Real) – variable upper bound, default infinity\n",
        "\n",
        "#examples\n",
        "#The following code adds a vector of binary variables x[0], ..., x[n-1] to the model m:\n",
        "\n",
        "#x = [m.add_var(var_type=BINARY) for i in range(n)]"
      ]
    },
    {
      "cell_type": "code",
      "source": [
        "print (x)"
      ],
      "metadata": {
        "colab": {
          "base_uri": "https://localhost:8080/"
        },
        "id": "orhAbRvHkqVY",
        "outputId": "5e942f96-bc0a-4ad7-eab3-0ef75e7e1b20"
      },
      "execution_count": null,
      "outputs": [
        {
          "output_type": "stream",
          "name": "stdout",
          "text": [
            "{'Bread': <mip.entities.Var object at 0x7e67e9ffc310>, 'Milk': <mip.entities.Var object at 0x7e67e9ffc1c0>, 'Eggs': <mip.entities.Var object at 0x7e67e9ffef50>, 'Meat': <mip.entities.Var object at 0x7e67e9ffc190>, 'Cake': <mip.entities.Var object at 0x7e67e9ffee60>}\n"
          ]
        }
      ]
    },
    {
      "cell_type": "markdown",
      "metadata": {
        "id": "Nlj8dc63Z1Wi"
      },
      "source": [
        "Let's write the objective function: in the general case, it can be written as a sum over the set of models."
      ]
    },
    {
      "cell_type": "code",
      "execution_count": null,
      "metadata": {
        "id": "GM2sOSkJpVza"
      },
      "outputs": [],
      "source": [
        "# Define the objective function\n",
        "model.objective = mip.minimize(mip.xsum(c[i]*x[i] for i in I))"
      ]
    },
    {
      "cell_type": "markdown",
      "metadata": {
        "id": "pSbYZwLeZ1Wi"
      },
      "source": [
        "The constraints can be generated in loops:"
      ]
    },
    {
      "cell_type": "code",
      "execution_count": null,
      "metadata": {
        "id": "JeNTerfsqFjS"
      },
      "outputs": [],
      "source": [
        "# CONSTRAINTS\n",
        "\n",
        "# Availability constraint\n",
        "for i,food in enumerate(I): # i is the index, food is the key of the dictionary\n",
        "  model.add_constr(x[food]<=q[food])\n",
        "\n",
        "# Minum nutrients\n",
        "for j in J:\n",
        "  model.add_constr(mip.xsum(a[i, j]*x[i] for i in I)>=b[j])\n",
        "  #mip.xsum() >=b == sommatoria >= del valor b"
      ]
    },
    {
      "cell_type": "markdown",
      "metadata": {
        "id": "gMFJ68poZ1Wi"
      },
      "source": [
        "The model is complete. Let's solve it and print the optimal solution."
      ]
    },
    {
      "cell_type": "code",
      "execution_count": null,
      "metadata": {
        "id": "u2EOpR5zrlfr",
        "colab": {
          "base_uri": "https://localhost:8080/"
        },
        "outputId": "9fcc6d6d-ad5f-453d-fa92-53aba95b01c6"
      },
      "outputs": [
        {
          "output_type": "execute_result",
          "data": {
            "text/plain": [
              "<OptimizationStatus.OPTIMAL: 0>"
            ]
          },
          "metadata": {},
          "execution_count": 39
        }
      ],
      "source": [
        "# Optimizing command\n",
        "model.optimize()"
      ]
    },
    {
      "cell_type": "code",
      "execution_count": null,
      "metadata": {
        "id": "SptErh70xQFd",
        "colab": {
          "base_uri": "https://localhost:8080/"
        },
        "outputId": "fb177792-013e-49d4-9e6b-b6ba345ff30e"
      },
      "outputs": [
        {
          "output_type": "execute_result",
          "data": {
            "text/plain": [
              "3.37"
            ]
          },
          "metadata": {},
          "execution_count": 40
        }
      ],
      "source": [
        "# Optimal objective function value\n",
        "model.objective.x"
      ]
    },
    {
      "cell_type": "code",
      "execution_count": null,
      "metadata": {
        "id": "1GmrXIDUxhtA",
        "colab": {
          "base_uri": "https://localhost:8080/"
        },
        "outputId": "533c28ce-04b3-4281-e0ff-8100023129f9"
      },
      "outputs": [
        {
          "output_type": "stream",
          "name": "stdout",
          "text": [
            "Bread\n",
            "3.9999999999999996\n",
            "Milk\n",
            "3.0\n",
            "Eggs\n",
            "1.0\n",
            "Meat\n",
            "1.5000000000000002\n",
            "Cake\n",
            "0.0\n"
          ]
        }
      ],
      "source": [
        "# Printing the variables values\n",
        "for i in model.vars:\n",
        "  print(i.name)\n",
        "  print(i.x)"
      ]
    },
    {
      "cell_type": "markdown",
      "metadata": {
        "id": "fW8v8vCKZ1Wj"
      },
      "source": [
        "## Oil blending problem\n",
        "\n",
        "A refinery has to blend 4 types of oil to obtain 3 types of gasoline. The following table reports the available quantity of oil of each type (in barrels) and the respective unit cost (Euro per barrel)\n",
        "\n",
        "Oil type|Cost|Availability\n",
        "--------|----|------------\n",
        "1|9|5000\n",
        "2|7|2400\n",
        "3|12|4000\n",
        "4|6|1500\n",
        "\n",
        "\n",
        "Blending constraints are to be taken into account, since each type of gasoline must contain at least a specific, predefined, quantity of each type of oil, as indicated in the next table. The unit revenue of each type of gasoline (Euro per barrel) is also indicated\n",
        "\n",
        "Gasoline type|Requirements|Revenue\n",
        "-------------|------------|-------\n",
        "A|$\\geq$ 20% of type 2| 12\n",
        "A|$\\leq$ 30% of type 3|12\n",
        "B|$\\geq$ 40% of type 3|18\n",
        "C|$\\leq$ 50% of type 2|10\n"
      ]
    },
    {
      "cell_type": "code",
      "execution_count": 18,
      "metadata": {
        "id": "5TvBOwDcZ1Wj"
      },
      "outputs": [],
      "source": [
        "#E' lo stesso problema di esercitazione 1.2 ma con più dati -> applica le stesse formule\n",
        "# Set of oil types\n",
        "#I =range(4) # dà una lista di elementi da 0 a 3 (4 escluso)\n",
        "I = range (1,5) #MA gli oli disponibili sono chiamati 1 2 3 4\n",
        "\n",
        "# Set of gasoline types\n",
        "J =['A', 'B', 'C']\n",
        "\n",
        "# Unit cost for oil of type i\n",
        "c = {1: 9, 2 : 7, 3:12, 4:6}\n",
        "\n",
        "# Availability of oil type i\n",
        "b ={1:5000, 2:2400 , 3:4000 , 4:1500}\n",
        "\n",
        "# Price of gasoline of type j\n",
        "r ={'A':12, 'B': 18, 'C': 10}\n",
        "\n",
        "# Maximum quantity (percentage) of oil\n",
        "q_max = {}\n",
        "for i in I:\n",
        "  for j in J:\n",
        "    q_max[(str(i),j)] = 1\n",
        "q_max[('2','A')] = 0.3\n",
        "q_max[('1','C')] = 0.5\n",
        "\n",
        "# Minimum quantity (percentage) of oil\n",
        "q_min = {}\n",
        "for i in I:\n",
        "  for j in J:\n",
        "    q_min[(str(i),j)] = 0\n",
        "q_min[('1','A')] = 0.2\n",
        "q_min[('2','B')] = 0.4"
      ]
    },
    {
      "cell_type": "markdown",
      "metadata": {
        "id": "X5R3cXr1Z1Wj"
      },
      "source": [
        "Now we create an empty model and add the variables"
      ]
    },
    {
      "cell_type": "code",
      "execution_count": 19,
      "metadata": {
        "id": "hKXYGcC4Z1Wj"
      },
      "outputs": [],
      "source": [
        "# Define a model\n",
        "model2 = mip.Model()\n",
        "\n",
        "# Define variables\n",
        "#x = {(str(i), j): model2.add_var(name = str)} #amount of oil i usato nel j-esimo gasolio\n",
        "#ho creato una tabella le cui chiavi sono la coppia di indici srt(i), j (entrambi stringhe -> i è un intero ma str(i) è una stringa)\n",
        "x = {(str(i), j): model2.add_var(name=str(i)+j) for i in I for j in J} # la stringa dev'essere UNICA!!\n",
        "y = { j :model2.add_var(name = j) for j in J} #amount of j-esimo gasolina prodotta"
      ]
    },
    {
      "cell_type": "code",
      "execution_count": 20,
      "metadata": {
        "id": "_f-KFoJoZ1Wj",
        "colab": {
          "base_uri": "https://localhost:8080/"
        },
        "outputId": "87d750f5-ced6-4ff5-906e-fd06b437ea85"
      },
      "outputs": [
        {
          "output_type": "stream",
          "name": "stdout",
          "text": [
            "+ 12A + 18B + 10C \n",
            "+ 91A + 91B + 91C + 72A + 72B + 72C + 123A + 123B + 123C + 64A + 64B + 64C \n",
            "+ 12A + 18B + 10C - 91A - 91B - 91C - 72A - 72B - 72C - 123A - 123B - 123C - 64A - 64B - 64C \n"
          ]
        }
      ],
      "source": [
        "# Define the objective function\n",
        "#print(*I, sep =\" \")\n",
        "oo = mip.xsum(r[j]*y[j] for j in J)\n",
        "uu = mip.xsum(c[i]*x[str(i), j] for i in I for j in J )\n",
        "print(oo)\n",
        "print(uu)\n",
        "print(oo-uu)\n",
        "model2.objective = mip.maximize( oo - uu )\n",
        "\n"
      ]
    },
    {
      "cell_type": "code",
      "execution_count": 21,
      "metadata": {
        "id": "tzOOREjtZ1Wj"
      },
      "outputs": [],
      "source": [
        "# CONSTRAINTS\n",
        "# Availability constraint\n",
        "for i in I:\n",
        "  model2.add_constr(mip.xsum(x[str(i), j]for j in J) <= b[i])# for i in I)\n",
        "\n",
        "# Conservation constraint\n",
        "for j in J:\n",
        "  model2.add_constr(mip.xsum(x[str(i),j ] for i in I) == y[j])\n",
        "\n",
        "# Maximum quantity\n",
        "for i in I:\n",
        "  for j in J:\n",
        "    model2.add_constr(x[str(i), j] <= q_max[str(i), j]*y[j])\n",
        "\n",
        "# Minimum quantity\n",
        "for i in I:\n",
        "  for j in J:\n",
        "    model2.add_constr(x[str(i), j] >= q_min[str(i), j]*y[j])"
      ]
    },
    {
      "cell_type": "markdown",
      "metadata": {
        "id": "YWpxbdK_Z1Wk"
      },
      "source": [
        "The model is complete. Let's solve it and print the optimal solution."
      ]
    },
    {
      "cell_type": "code",
      "execution_count": 22,
      "metadata": {
        "id": "G9wQnOC9Z1Wk",
        "colab": {
          "base_uri": "https://localhost:8080/"
        },
        "outputId": "296f83d3-f3d5-499e-a61d-808030318ec4"
      },
      "outputs": [
        {
          "output_type": "execute_result",
          "data": {
            "text/plain": [
              "<OptimizationStatus.OPTIMAL: 0>"
            ]
          },
          "metadata": {},
          "execution_count": 22
        }
      ],
      "source": [
        "# Optimizing command\n",
        "model2.optimize()"
      ]
    },
    {
      "cell_type": "code",
      "execution_count": 23,
      "metadata": {
        "id": "8sTV8ShQZ1Wk",
        "colab": {
          "base_uri": "https://localhost:8080/"
        },
        "outputId": "9527a83c-da6e-4ce2-e8f1-09cc91496261"
      },
      "outputs": [
        {
          "output_type": "execute_result",
          "data": {
            "text/plain": [
              "72000.00000000001"
            ]
          },
          "metadata": {},
          "execution_count": 23
        }
      ],
      "source": [
        "# Optimal objective function value\n",
        "model2.objective.x"
      ]
    },
    {
      "cell_type": "code",
      "execution_count": 24,
      "metadata": {
        "id": "hMmIbfs2Z1Wk",
        "colab": {
          "base_uri": "https://localhost:8080/"
        },
        "outputId": "5b386efb-3aa2-42b3-b650-0c35bb7a742d"
      },
      "outputs": [
        {
          "output_type": "stream",
          "name": "stdout",
          "text": [
            "Oil and gasoline:1A amount 5000.0\n",
            "Oil and gasoline:1B amount 0.0\n",
            "Oil and gasoline:1C amount 0.0\n",
            "Oil and gasoline:2A amount 0.0\n",
            "Oil and gasoline:2B amount 2400.0\n",
            "Oil and gasoline:2C amount 0.0\n",
            "Oil and gasoline:3A amount 1900.0\n",
            "Oil and gasoline:3B amount 2100.0\n",
            "Oil and gasoline:3C amount 0.0\n",
            "Oil and gasoline:4A amount 0.0\n",
            "Oil and gasoline:4B amount 1500.0\n",
            "Oil and gasoline:4C amount 0.0\n",
            "Oil and gasoline:A amount 6900.000000000001\n",
            "Oil and gasoline:B amount 6000.0\n",
            "Oil and gasoline:C amount 0.0\n"
          ]
        }
      ],
      "source": [
        "# Printing the variables values\n",
        "for i in model2.vars:\n",
        "  print(\"Oil and gasoline:\"+i.name+' amount '+str(i.x))\n",
        " # print(i.x)\n",
        "  #print('-----')\n"
      ]
    }
  ],
  "metadata": {
    "colab": {
      "provenance": []
    },
    "kernelspec": {
      "display_name": "Python 3",
      "language": "python",
      "name": "python3"
    },
    "language_info": {
      "codemirror_mode": {
        "name": "ipython",
        "version": 3
      },
      "file_extension": ".py",
      "mimetype": "text/x-python",
      "name": "python",
      "nbconvert_exporter": "python",
      "pygments_lexer": "ipython3",
      "version": "3.11.9"
    }
  },
  "nbformat": 4,
  "nbformat_minor": 0
}